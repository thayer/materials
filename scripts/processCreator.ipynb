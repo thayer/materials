{
 "cells": [
  {
   "cell_type": "code",
   "execution_count": 14,
   "metadata": {
    "collapsed": false
   },
   "outputs": [
    {
     "data": {
      "text/plain": [
       "'\\nAuthor:\\n    Erfan Azad (erfan@dartmouth.edu)\\n\\nDate:\\n    23 April 2017\\n    \\nDescription:\\n    This script opens a CSV database of processes\\n    and automatically creates a .md file with\\n    corresponding YAML for each process.\\n'"
      ]
     },
     "execution_count": 14,
     "metadata": {},
     "output_type": "execute_result"
    }
   ],
   "source": [
    "'''\n",
    "Author:\n",
    "    Erfan Azad (erfan@dartmouth.edu)\n",
    "\n",
    "Date:\n",
    "    23 April 2017\n",
    "    \n",
    "Description:\n",
    "    This script opens a CSV database of processes\n",
    "    and automatically creates a .md file with\n",
    "    corresponding YAML for each process.\n",
    "'''"
   ]
  },
  {
   "cell_type": "code",
   "execution_count": 24,
   "metadata": {
    "collapsed": false
   },
   "outputs": [],
   "source": [
    "import csv"
   ]
  },
  {
   "cell_type": "code",
   "execution_count": 112,
   "metadata": {
    "collapsed": false
   },
   "outputs": [],
   "source": [
    "def makeProcessFileUsingRow(row, outputFilename):\n",
    "    content = \"---\\n\" # Start YAML\n",
    "    \n",
    "    content += \"process_name: \\'{}\\'\\n\".format(row[0].strip()) # Name\n",
    "    content += \"index_letter: {}\\n\".format(row[0].strip()[0].upper()) # Index Letter\n",
    "    content += \"process_class: \\'{}\\'\\n\".format(row[1].strip().strip('\"')) # Class\n",
    "    content += \"process_subclass: \\'{}\\'\\n\".format(row[2].strip().strip(\"'\")) # Subclass\n",
    "    content += \"process_sub_subclass: \\'{}\\'\\n\".format(row[3].strip(\"'\")) # Subsubclass\n",
    "    content += \"primary_photo_path: /photos/{}.png\\n\".format(row[4].strip()) # Primary photo path\n",
    "    \n",
    "    content += \"places: \\n\" # Places\n",
    "    places = row[5].strip().split(\"--\")[1:]\n",
    "    for place in places:\n",
    "        content += \"  - {}\\n\".format(place.strip())\n",
    "        \n",
    "    content += \"description: \\\"{}\\\"\\n\".format(row[7].strip().replace(\"\\\"\",\"\\'\")) # Description\n",
    "    \n",
    "    content += \"relations: \\n\" # Relations - materials\n",
    "    content += \"  - materials: \\n\"\n",
    "    materialRelations = row[6].strip().split(\"--\")[1:]\n",
    "    for material in materialRelations:\n",
    "        material = material.strip().split('(')[0].strip()\n",
    "        content += \"    - {}\\n\".format(material)\n",
    "    \n",
    "    content += \"  - processes: \\n\" # Relations - processes (possibly in future!)\n",
    "    \n",
    "    content += \"  - products: \\n\" # Relations - products (future!)\n",
    "    content += \"---\\n\" # End YAML\n",
    "    \n",
    "    output = open(outputFilename, 'w')\n",
    "    output.write(content)\n",
    "    output.close()\n",
    "    "
   ]
  },
  {
   "cell_type": "code",
   "execution_count": 113,
   "metadata": {
    "collapsed": false
   },
   "outputs": [
    {
     "name": "stdout",
     "output_type": "stream",
     "text": [
      "['name', 'class', 'subclass', 'subsubclass', 'photo', 'location', 'relations_materials', 'description']\n"
     ]
    }
   ],
   "source": [
    "raw = open(\"processes_information - Sheet1.csv\", 'r')\n",
    "data = csv.reader(raw, delimiter=',')\n",
    "\n",
    "outputFilenameCounter = 2000\n",
    "for row in data:\n",
    "    if(outputFilenameCounter != 2000):\n",
    "        filename = \"../_processes/{}.md\".format(outputFilenameCounter)\n",
    "#         filename = \"test/{}.md\".format(outputFilenameCounter)\n",
    "        makeProcessFileUsingRow(row, filename) \n",
    "    else:\n",
    "        print(row)\n",
    "    outputFilenameCounter += 1\n",
    "\n",
    "raw.close()"
   ]
  }
 ],
 "metadata": {
  "kernelspec": {
   "display_name": "Python 2",
   "language": "python",
   "name": "python2"
  },
  "language_info": {
   "codemirror_mode": {
    "name": "ipython",
    "version": 2
   },
   "file_extension": ".py",
   "mimetype": "text/x-python",
   "name": "python",
   "nbconvert_exporter": "python",
   "pygments_lexer": "ipython2",
   "version": "2.7.13"
  }
 },
 "nbformat": 4,
 "nbformat_minor": 2
}
