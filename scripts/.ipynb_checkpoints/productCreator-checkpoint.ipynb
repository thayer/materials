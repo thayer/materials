{
 "cells": [
  {
   "cell_type": "code",
   "execution_count": 13,
   "metadata": {
    "collapsed": false
   },
   "outputs": [],
   "source": [
    "'''\n",
    "Author:\n",
    "    Erfan Azad (erfan@dartmouth.edu)\n",
    "\n",
    "Date:\n",
    "    27 January 2017\n",
    "    \n",
    "Description:\n",
    "    This script opens a CSV database of products\n",
    "    and automatically creates a .md file with\n",
    "    corresponding YAML for each product.\n",
    "'''\n",
    "\n",
    "import csv\n",
    "    \n",
    "def makeProductFileUsingRow(row, outputFilename):\n",
    "    content = \"---\\n\" #initialize YAML \n",
    "    content += \"product_name: \\\"{}\\\"\\n\".format(row[4].strip()) #Name\n",
    "    print(row[4].strip())\n",
    "    content += \"index_letter: {}\\n\".format(row[4].strip()[0].upper().strip()) #Index letter\n",
    "    content += \"class: {}\\n\".format(row[2].strip()) #Class\n",
    "    content += \"subclass: {}\\n\".format(row[3].strip()) #Subclass\n",
    "\n",
    "    #Componenets\n",
    "    content += \"components:\\n\"\n",
    "    comps = row[7].split(\"-\")[1:]\n",
    "    masses = [mass.strip().split(\"_\") for mass in row[10].split(\"-\")[1:]]\n",
    "    materials = [material.strip().split(\"_\") for material in row[8].split(\"-\")[1:]]\n",
    "    processes = [process.strip().split(\"_\") for process in row[9].split(\"-\")[1:]]\n",
    "    counter = 1\n",
    "    for comp in comps:\n",
    "        content += \"  - {}:\\n\".format(comp.strip())\n",
    "        for mass in masses:\n",
    "            if (int(mass[0]) == counter):\n",
    "                content += \"    - mass: {}\\n\".format(mass[1])\n",
    "        content += \"    - materials:\\n\"\n",
    "        for material in materials:\n",
    "            if (int(material[0]) == counter and material[1] != \"\"):\n",
    "                content += \"      - {}\\n\".format(material[1])\n",
    "        content += \"    - processes:\\n\"\n",
    "        for process in processes:\n",
    "            if (int(process[0]) == counter and process[1] != \"\"):\n",
    "                content += \"      - {}\\n\".format(process[1])\n",
    "        counter += 1\n",
    "\n",
    "    content += \"manufacturer: \\\"{}\\\"\\n\".format(row[11].strip()) #Manufacturer\n",
    "    content += \"cost: {}\\n\".format(row[12].strip()) #Cost\n",
    "    content += \"DOP: {}\\n\".format(row[14].strip()) #Date of purchase\n",
    "    content += \"POP: {}\\n\".format(row[13].strip()) #Place of purchase\n",
    "    content += \"product_description: \\\"{}\\\"\\n\".format(row[15].strip()) #Product Description\n",
    "    content += \"materials_and_processes_description: \\\"{}\\\"\\n\".format(row[16].strip())  # Materials and Processes description\n",
    "    if(row[0].strip() == \"\"):\n",
    "        content += \"primary_photo_path: \\\"\\\"\\n\"    #Primary Photo Path\n",
    "    else:\n",
    "        content += \"primary_photo_path: /photos/{}.jpg\\n\".format(row[0].strip().split(\"/\")[0].strip()) #Primary Photo Path\n",
    "    content += \"link_to_manufacturer_website: \\\"{}\\\"\\n\".format(row[18].strip()) #Link to manufacturer\n",
    "    content += \"additional_photos:\\n\"\n",
    "    if(row[1].strip() == \"N/A\" or row[1].strip() == \"\"):\n",
    "        content += \"  - additional_photo_path: \\\"\\\"\\n\"   #No Additional Photo\n",
    "    else:\n",
    "        photos = row[1].strip().split('-')[1:]\n",
    "        for photo in photos:\n",
    "            content += \"  - additional_photo_path: /photos/{}.jpg\\n\".format(photo.strip()) #Additional Photo\n",
    "    \n",
    "    content += \"HIMvideos:\\n\"                      # How it is made videos\n",
    "    HIMvideos = row[19].strip().split(\"*\")[1:]\n",
    "    for video in HIMvideos:\n",
    "        content += \"  - {}\\n\".format(video.strip())\n",
    "        \n",
    "    content += \"---\\n\" #End of YAML\n",
    "    \n",
    "    output = open(outputFilename, 'w')\n",
    "    output.write(content)\n",
    "    output.close()\n",
    "    \n",
    "    \n",
    "def main():\n",
    "    raw = open(\"Products Information Spreadsheet - Sheet1.csv\", 'r')\n",
    "    data = csv.reader(raw, delimiter=',')\n",
    "\n",
    "    outputFilenameCounter = 3000\n",
    "    for row in data:\n",
    "        if outputFilenameCounter > 3206:\n",
    "            break; # the rest of the product datasheet is not ready yet!\n",
    "        print(outputFilenameCounter)\n",
    "        if (outputFilenameCounter != 3000): #ignore the header row\n",
    "            filename = \"../_products/{}.md\".format(outputFilenameCounter)\n",
    "#             filename = \"test/{}.md\".format(outputFilenameCounter)\n",
    "            makeProductFileUsingRow(row, filename)\n",
    "        else:\n",
    "            print(row)\n",
    "        outputFilenameCounter += 1\n",
    "        \n"
   ]
  },
  {
   "cell_type": "code",
   "execution_count": 14,
   "metadata": {
    "collapsed": false
   },
   "outputs": [
    {
     "ename": "Error",
     "evalue": "new-line character seen in unquoted field - do you need to open the file in universal-newline mode?",
     "output_type": "error",
     "traceback": [
      "\u001b[0;31m---------------------------------------------------------------------------\u001b[0m",
      "\u001b[0;31mError\u001b[0m                                     Traceback (most recent call last)",
      "\u001b[0;32m<ipython-input-14-58ca95c5b364>\u001b[0m in \u001b[0;36m<module>\u001b[0;34m()\u001b[0m\n\u001b[0;32m----> 1\u001b[0;31m \u001b[0mmain\u001b[0m\u001b[0;34m(\u001b[0m\u001b[0;34m)\u001b[0m\u001b[0;34m\u001b[0m\u001b[0m\n\u001b[0m",
      "\u001b[0;32m<ipython-input-13-388738e1e0f5>\u001b[0m in \u001b[0;36mmain\u001b[0;34m()\u001b[0m\n\u001b[1;32m     80\u001b[0m \u001b[0;34m\u001b[0m\u001b[0m\n\u001b[1;32m     81\u001b[0m     \u001b[0moutputFilenameCounter\u001b[0m \u001b[0;34m=\u001b[0m \u001b[0;36m3000\u001b[0m\u001b[0;34m\u001b[0m\u001b[0m\n\u001b[0;32m---> 82\u001b[0;31m     \u001b[0;32mfor\u001b[0m \u001b[0mrow\u001b[0m \u001b[0;32min\u001b[0m \u001b[0mdata\u001b[0m\u001b[0;34m:\u001b[0m\u001b[0;34m\u001b[0m\u001b[0m\n\u001b[0m\u001b[1;32m     83\u001b[0m         \u001b[0;32mif\u001b[0m \u001b[0moutputFilenameCounter\u001b[0m \u001b[0;34m>\u001b[0m \u001b[0;36m3207\u001b[0m\u001b[0;34m:\u001b[0m\u001b[0;34m\u001b[0m\u001b[0m\n\u001b[1;32m     84\u001b[0m             \u001b[0;32mbreak\u001b[0m\u001b[0;34m;\u001b[0m \u001b[0;31m# the rest of the product datasheet is not ready yet!\u001b[0m\u001b[0;34m\u001b[0m\u001b[0m\n",
      "\u001b[0;31mError\u001b[0m: new-line character seen in unquoted field - do you need to open the file in universal-newline mode?"
     ]
    }
   ],
   "source": [
    "main()"
   ]
  },
  {
   "cell_type": "code",
   "execution_count": null,
   "metadata": {
    "collapsed": true
   },
   "outputs": [],
   "source": []
  }
 ],
 "metadata": {
  "kernelspec": {
   "display_name": "Python 2",
   "language": "python",
   "name": "python2"
  },
  "language_info": {
   "codemirror_mode": {
    "name": "ipython",
    "version": 2
   },
   "file_extension": ".py",
   "mimetype": "text/x-python",
   "name": "python",
   "nbconvert_exporter": "python",
   "pygments_lexer": "ipython2",
   "version": "2.7.13"
  }
 },
 "nbformat": 4,
 "nbformat_minor": 1
}
