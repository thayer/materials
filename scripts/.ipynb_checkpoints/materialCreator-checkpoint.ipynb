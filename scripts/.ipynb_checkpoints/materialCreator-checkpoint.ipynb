{
 "cells": [
  {
   "cell_type": "code",
   "execution_count": 1,
   "metadata": {
    "collapsed": true
   },
   "outputs": [],
   "source": [
    "'''\n",
    "Author:\n",
    "    Erfan Azad (erfan@dartmouth.edu)\n",
    "\n",
    "Date:\n",
    "    10 February 2017\n",
    "    \n",
    "Description:\n",
    "    This script opens a CSV database of materials\n",
    "    and automatically creates a .md file with\n",
    "    corresponding YAML for each material.\n",
    "'''\n",
    "\n",
    "import csv"
   ]
  },
  {
   "cell_type": "code",
   "execution_count": 23,
   "metadata": {
    "collapsed": true
   },
   "outputs": [],
   "source": [
    "def makeMaterialFileUsingRow(row, outputFilename):\n",
    "    content = \"---\\n\" # Start YAML\n",
    "    \n",
    "    content += \"material_name: \\\"{}\\\"\\n\".format(row[3].strip()) # Name\n",
    "    content += \"index_letter: {}\\n\".format(row[3].strip()[0].upper())\n",
    "    content += \"material_class: {}\\n\".format(row[4].strip())    # Class\n",
    "    content += \"material_subclass: \\\"{}\\\"\\n\".format(row[5].strip()) # Subclass\n",
    "    content += \"primary_photo_path: /photos/{}.jpg\\n\".format(row[0].strip()) # Primary photo\n",
    "    \n",
    "    content += \"additional_photos:\\n\"   # Additional Photos\n",
    "    Additional_photoes = row[2].strip().split(\"-\")[1:]\n",
    "    for photo in Additional_photoes:\n",
    "        content += \"  - additional_photo_path: /photos/{}.jpg\\n\".format(photo.strip())\n",
    "    \n",
    "    content += \"general_applications: \\\"{}\\\"\\n\".format(row[7].strip().replace(\"\\\"\",\"\\'\")) # General Applications\n",
    "    content += \"description: \\\"{}\\\"\\n\".format(row[6].strip().replace(\"\\\"\",\"\\'\"))          # Description  \n",
    "    \n",
    "    content += \"relations:\\n\"    # Relations\n",
    "    content += \"  - materials:\\n\" # PLACEHOLDER: In case we wanted to relate one material to another later using cloudCannon\n",
    "    content += \"  - processes:\\n\"\n",
    "    related_processes = row[8].strip().split(\"-\")[1:]\n",
    "    for process in related_processes:\n",
    "        content += \"    - \\\"{}\\\"\\n\".format(process.strip())\n",
    "    content += \"  - products:\\n\"\n",
    "    related_products = row[9].strip().split(\"-\")[1:]\n",
    "    for product in related_products:\n",
    "        content += \"    - \\\"{}\\\"\\n\".format(product.strip())\n",
    "\n",
    "    \n",
    "    content += \"---\\n\" # End YAML\n",
    "    \n",
    "    output = open(outputFilename, 'w')\n",
    "    output.write(content)\n",
    "    output.close()\n",
    "    "
   ]
  },
  {
   "cell_type": "code",
   "execution_count": 24,
   "metadata": {
    "collapsed": false
   },
   "outputs": [
    {
     "name": "stdout",
     "output_type": "stream",
     "text": [
      "['# (Imperial)', '# (Metric)', 'Additional Photos', 'Name', 'Class', 'Subclass', 'Description', 'General Applications', 'Relations - Processes', 'Relations - Products', 'Missing', 'Additional Links', 'Additional Files']\n"
     ]
    }
   ],
   "source": [
    "raw = open(\"Materials_Datasheet_Info - Sheet1.csv\", 'r')\n",
    "data = csv.reader(raw, delimiter=',')\n",
    "\n",
    "outputFilenameCounter = 1000\n",
    "for row in data:\n",
    "    if(outputFilenameCounter != 1000):\n",
    "        filename = \"../_materials/{}.md\".format(outputFilenameCounter)\n",
    "        makeMaterialFileUsingRow(row, filename)\n",
    "        \n",
    "    else:\n",
    "        print(row)\n",
    "    outputFilenameCounter += 1"
   ]
  }
 ],
 "metadata": {
  "kernelspec": {
   "display_name": "Python 2",
   "language": "python",
   "name": "python2"
  },
  "language_info": {
   "codemirror_mode": {
    "name": "ipython",
    "version": 2
   },
   "file_extension": ".py",
   "mimetype": "text/x-python",
   "name": "python",
   "nbconvert_exporter": "python",
   "pygments_lexer": "ipython2",
   "version": "2.7.10"
  }
 },
 "nbformat": 4,
 "nbformat_minor": 1
}
