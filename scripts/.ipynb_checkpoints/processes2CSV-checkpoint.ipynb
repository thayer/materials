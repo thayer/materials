{
 "cells": [
  {
   "cell_type": "code",
   "execution_count": null,
   "metadata": {
    "collapsed": true
   },
   "outputs": [],
   "source": [
    "'''\n",
    "Erfan Azad <erfan@dartmouth.edu>\n",
    "This file contains a script for creating a .csv file from all the .md contents/files in the \n",
    "_processes folder. This is done in order to be able to have a datasheet to future manupulation\n",
    "of all the processes at once, similar to material/productCreator scripts.\n",
    "'''"
   ]
  },
  {
   "cell_type": "code",
   "execution_count": 35,
   "metadata": {
    "collapsed": true
   },
   "outputs": [],
   "source": [
    "import os\n",
    "import sys\n",
    "import csv\n",
    "\n",
    "fo = open(\"processes_information.csv\", 'wt')\n",
    "writer = csv.writer(fo)\n",
    "headerRow = ['name', 'class', 'subclass', 'subsubclass','photo', 'location', 'description']\n",
    "rows = [headerRow]\n",
    "\n",
    "\n",
    "directory = \"../_processes\"\n",
    "for filename in os.listdir(directory):\n",
    "    if filename.endswith(\".md\"):\n",
    "        fi = open(directory+\"/\"+filename, 'r')\n",
    "        row = []\n",
    "        lines = fi.readlines()\n",
    "        lineNumIndex = 0\n",
    "        for line in lines:\n",
    "            if \"process_name\" in line:\n",
    "                name = line.split(':',1)[1].strip()\n",
    "                row.append(name)\n",
    "            elif \"process_class\" in line:\n",
    "                processClass = line.split(':',1)[1].strip()\n",
    "                row.append(processClass)\n",
    "            elif \"process_subclass\" in line:\n",
    "                subclass = line.split(':',1)[1].strip()\n",
    "                row.append(subclass)\n",
    "            elif \"process_sub_subclass\" in line:\n",
    "                subsubclass = line.split(':',1)[1].strip()\n",
    "                row.append(subsubclass)\n",
    "            elif \"primary_photo_path\" in line:\n",
    "                photo = line.split('/')[-1].strip().split('.')[0].strip()\n",
    "                row.append(photo)\n",
    "            elif \"places:\" in line:\n",
    "                nextLineIndex = lineNumIndex+1\n",
    "                location = \"\"\n",
    "                while(lines[nextLineIndex][0:3] == \"  -\"):\n",
    "                    location += '-' + (str)(lines[nextLineIndex]).strip() + \"\\n\"\n",
    "                    nextLineIndex += 1\n",
    "                row.append(location.strip())\n",
    "            elif \"---\" in line and lineNumIndex > 1:\n",
    "                if len(row) < 6: #There were no 'places' field \n",
    "                    row.append(\"\")\n",
    "                subList = lines[lineNumIndex+1:-1]\n",
    "                description = \"\"\n",
    "                for line in subList:\n",
    "                    description += (str)(line)\n",
    "                row.append(description.strip())\n",
    "            lineNumIndex += 1\n",
    "        fi.close() \n",
    "        rows.append(row)\n",
    "        \n",
    "writer.writerows(rows)\n",
    "fo.close()"
   ]
  }
 ],
 "metadata": {
  "kernelspec": {
   "display_name": "Python 2",
   "language": "python",
   "name": "python2"
  },
  "language_info": {
   "codemirror_mode": {
    "name": "ipython",
    "version": 2
   },
   "file_extension": ".py",
   "mimetype": "text/x-python",
   "name": "python",
   "nbconvert_exporter": "python",
   "pygments_lexer": "ipython2",
   "version": "2.7.13"
  }
 },
 "nbformat": 4,
 "nbformat_minor": 2
}
