{
 "cells": [
  {
   "cell_type": "markdown",
   "metadata": {},
   "source": [
    "### Script to take an image of QR code and saves it again in another image with the filename included in it"
   ]
  },
  {
   "cell_type": "code",
   "execution_count": 96,
   "metadata": {
    "collapsed": false
   },
   "outputs": [],
   "source": [
    "from PIL import Image, ImageDraw, ImageFont\n",
    "import qrcode\n",
    "import time"
   ]
  },
  {
   "cell_type": "code",
   "execution_count": 91,
   "metadata": {
    "collapsed": true
   },
   "outputs": [],
   "source": [
    "def makeQR(url):\n",
    "    '''\n",
    "    talkes a url string and creates a QR code form it.\n",
    "    \n",
    "    Args:\n",
    "        url: S string containing the url to make qrcode for\n",
    "        \n",
    "    Returns:\n",
    "        An image (qrcode.image.pil.PilImage)\n",
    "    '''\n",
    "    #TODO: Check Inputs\n",
    "    img = qrcode.make(url)\n",
    "    return img"
   ]
  },
  {
   "cell_type": "code",
   "execution_count": 92,
   "metadata": {
    "collapsed": false
   },
   "outputs": [],
   "source": [
    "def addText2Image(img, text):\n",
    "    \n",
    "    img = img.convert('RGBA')\n",
    "    percentIncrease = 20.0                                     # Make a bigger canvas for both QR and the text\n",
    "    height,width = img.size\n",
    "    newHeight = int(height + (percentIncrease/100)*height)\n",
    "    newWidth = int(width + (percentIncrease/100)*width)        # Offset the QR to be center horizontally\n",
    "    offset1_x = (newWidth - width)/2 \n",
    "    offset1_y = 0\n",
    "    \n",
    "    base = Image.new('RGBA', (newHeight, newWidth),(255,255,255,255))  # Create the new canvas\n",
    "    base.paste(img, (offset1_x,offset1_y))                             # Add QR to canvas\n",
    "    \n",
    "    fontSize = 60\n",
    "    font = '/Library/Fonts/Arial Bold.ttf'\n",
    "    offset2_x = 0.4*newWidth\n",
    "    offset2_y = 0.8*newHeight\n",
    "    fnt = ImageFont.truetype(font, fontSize)\n",
    "    \n",
    "    draw = ImageDraw.Draw(base)                                        # Create a drawable from canvas\n",
    "    draw.text((offset2_x,offset2_y), text, font=fnt, fill=(0,0,0,255)) # Draw the text on canvas\n",
    "    return base\n",
    "    "
   ]
  },
  {
   "cell_type": "code",
   "execution_count": 108,
   "metadata": {
    "collapsed": true
   },
   "outputs": [],
   "source": [
    "def main():\n",
    "    tic = time.clock()\n",
    "    productNumber_start = 3001\n",
    "    productNumber_end = 3208\n",
    "    savePath = \"./QRs\"\n",
    "    print(\"Saving path: {}\".format(savePath))\n",
    "    for i in range(productNumber_start,productNumber_end+1):\n",
    "        QRimg = makeQR(\"http://engineering.dartmouth.edu/materials-library/products/{}.html\".format(i))\n",
    "        resultImage = addText2Image(QRimg, str(i))\n",
    "        filename = \"{}/{}.png\".format(savePath, i)\n",
    "        resultImage.save(filename)\n",
    "        print(\"{}: Saved!\".format(filename))\n",
    "    toc = time.clock()\n",
    "    print(\"Finished creating {} QR codes in {:.2f} seconds!\".format((productNumber_end-productNumber_start), (toc-tic)))"
   ]
  },
  {
   "cell_type": "code",
   "execution_count": 109,
   "metadata": {
    "collapsed": false
   },
   "outputs": [
    {
     "name": "stdout",
     "output_type": "stream",
     "text": [
      "Saving path: ./QRs\n",
      "./QRs/3001.png: Saved!\n",
      "./QRs/3002.png: Saved!\n",
      "./QRs/3003.png: Saved!\n",
      "./QRs/3004.png: Saved!\n",
      "./QRs/3005.png: Saved!\n",
      "./QRs/3006.png: Saved!\n",
      "./QRs/3007.png: Saved!\n",
      "./QRs/3008.png: Saved!\n",
      "./QRs/3009.png: Saved!\n",
      "./QRs/3010.png: Saved!\n",
      "Finished creating 9 QR codes in 1.67 seconds!\n"
     ]
    }
   ],
   "source": [
    "main()"
   ]
  },
  {
   "cell_type": "code",
   "execution_count": null,
   "metadata": {
    "collapsed": true
   },
   "outputs": [],
   "source": []
  },
  {
   "cell_type": "code",
   "execution_count": null,
   "metadata": {
    "collapsed": true
   },
   "outputs": [],
   "source": []
  },
  {
   "cell_type": "code",
   "execution_count": null,
   "metadata": {
    "collapsed": true
   },
   "outputs": [],
   "source": []
  },
  {
   "cell_type": "code",
   "execution_count": null,
   "metadata": {
    "collapsed": true
   },
   "outputs": [],
   "source": []
  },
  {
   "cell_type": "code",
   "execution_count": 42,
   "metadata": {
    "collapsed": true
   },
   "outputs": [],
   "source": [
    "productNumber_start = 3001\n",
    "productNumber_end = 3208"
   ]
  },
  {
   "cell_type": "code",
   "execution_count": 67,
   "metadata": {
    "collapsed": false
   },
   "outputs": [],
   "source": [
    "im = makeQR(\"http://engineering.dartmouth.edu/materials-library/products/3001.html\")"
   ]
  },
  {
   "cell_type": "code",
   "execution_count": 79,
   "metadata": {
    "collapsed": false
   },
   "outputs": [
    {
     "name": "stdout",
     "output_type": "stream",
     "text": [
      "<class 'PIL.Image.Image'>\n"
     ]
    }
   ],
   "source": [
    "out = addText2Image(im, \"3001\")"
   ]
  },
  {
   "cell_type": "code",
   "execution_count": 80,
   "metadata": {
    "collapsed": false
   },
   "outputs": [],
   "source": [
    "out.save(\"QRs/1324.png\")"
   ]
  },
  {
   "cell_type": "code",
   "execution_count": null,
   "metadata": {
    "collapsed": true
   },
   "outputs": [],
   "source": []
  }
 ],
 "metadata": {
  "kernelspec": {
   "display_name": "Python 2",
   "language": "python",
   "name": "python2"
  },
  "language_info": {
   "codemirror_mode": {
    "name": "ipython",
    "version": 2
   },
   "file_extension": ".py",
   "mimetype": "text/x-python",
   "name": "python",
   "nbconvert_exporter": "python",
   "pygments_lexer": "ipython2",
   "version": "2.7.13"
  }
 },
 "nbformat": 4,
 "nbformat_minor": 2
}
